{
 "cells": [
  {
   "cell_type": "code",
   "execution_count": 2,
   "id": "likely-queue",
   "metadata": {},
   "outputs": [
    {
     "output_type": "execute_result",
     "data": {
      "text/plain": [
       "       Unnamed: 0          mod_date          pub_date  cvss  cwe_code  \\\n",
       "0  CVE-2019-16548  21/11/2019 15:15  21/11/2019 15:15   6.8       352   \n",
       "1  CVE-2019-16547  21/11/2019 15:15  21/11/2019 15:15   4.0       732   \n",
       "2  CVE-2019-16546  21/11/2019 15:15  21/11/2019 15:15   4.3       639   \n",
       "3   CVE-2013-2092  20/11/2019 21:22  20/11/2019 21:15   4.3        79   \n",
       "4   CVE-2013-2091  20/11/2019 20:15  20/11/2019 20:15   7.5        89   \n",
       "\n",
       "                                            cwe_name  Unnamed: 6  \n",
       "0                  Cross-Site Request Forgery (CSRF)         NaN  \n",
       "1   Incorrect Permission Assignment for Critical ...         NaN  \n",
       "2   Authorization Bypass Through User-Controlled Key         NaN  \n",
       "3   Improper Neutralization of Input During Web P...         NaN  \n",
       "4   Improper Neutralization of Special Elements u...         NaN  "
      ],
      "text/html": "<div>\n<style scoped>\n    .dataframe tbody tr th:only-of-type {\n        vertical-align: middle;\n    }\n\n    .dataframe tbody tr th {\n        vertical-align: top;\n    }\n\n    .dataframe thead th {\n        text-align: right;\n    }\n</style>\n<table border=\"1\" class=\"dataframe\">\n  <thead>\n    <tr style=\"text-align: right;\">\n      <th></th>\n      <th>Unnamed: 0</th>\n      <th>mod_date</th>\n      <th>pub_date</th>\n      <th>cvss</th>\n      <th>cwe_code</th>\n      <th>cwe_name</th>\n      <th>Unnamed: 6</th>\n    </tr>\n  </thead>\n  <tbody>\n    <tr>\n      <th>0</th>\n      <td>CVE-2019-16548</td>\n      <td>21/11/2019 15:15</td>\n      <td>21/11/2019 15:15</td>\n      <td>6.8</td>\n      <td>352</td>\n      <td>Cross-Site Request Forgery (CSRF)</td>\n      <td>NaN</td>\n    </tr>\n    <tr>\n      <th>1</th>\n      <td>CVE-2019-16547</td>\n      <td>21/11/2019 15:15</td>\n      <td>21/11/2019 15:15</td>\n      <td>4.0</td>\n      <td>732</td>\n      <td>Incorrect Permission Assignment for Critical ...</td>\n      <td>NaN</td>\n    </tr>\n    <tr>\n      <th>2</th>\n      <td>CVE-2019-16546</td>\n      <td>21/11/2019 15:15</td>\n      <td>21/11/2019 15:15</td>\n      <td>4.3</td>\n      <td>639</td>\n      <td>Authorization Bypass Through User-Controlled Key</td>\n      <td>NaN</td>\n    </tr>\n    <tr>\n      <th>3</th>\n      <td>CVE-2013-2092</td>\n      <td>20/11/2019 21:22</td>\n      <td>20/11/2019 21:15</td>\n      <td>4.3</td>\n      <td>79</td>\n      <td>Improper Neutralization of Input During Web P...</td>\n      <td>NaN</td>\n    </tr>\n    <tr>\n      <th>4</th>\n      <td>CVE-2013-2091</td>\n      <td>20/11/2019 20:15</td>\n      <td>20/11/2019 20:15</td>\n      <td>7.5</td>\n      <td>89</td>\n      <td>Improper Neutralization of Special Elements u...</td>\n      <td>NaN</td>\n    </tr>\n  </tbody>\n</table>\n</div>"
     },
     "metadata": {},
     "execution_count": 2
    }
   ],
   "source": [
    "import pandas as pd\n",
    "import numpy as np\n",
    "\n",
    "df = pd.read_csv('cve.csv')\n",
    "df.head()"
   ]
  },
  {
   "cell_type": "code",
   "execution_count": 3,
   "id": "consistent-durham",
   "metadata": {},
   "outputs": [
    {
     "output_type": "execute_result",
     "data": {
      "text/plain": [
       "0        [CVE, 2019, 16548]\n",
       "1        [CVE, 2019, 16547]\n",
       "2        [CVE, 2019, 16546]\n",
       "3         [CVE, 2013, 2092]\n",
       "4         [CVE, 2013, 2091]\n",
       "                ...        \n",
       "89655     [CVE, 2007, 6444]\n",
       "89656     [CVE, 2007, 6443]\n",
       "89657     [CVE, 2007, 6442]\n",
       "89658     [CVE, 2007, 6370]\n",
       "89659     [CVE, 2007, 3004]\n",
       "Name: Unnamed: 0, Length: 89660, dtype: object"
      ]
     },
     "metadata": {},
     "execution_count": 3
    }
   ],
   "source": [
    "df['Unnamed: 0'].str.split('-')\n"
   ]
  },
  {
   "cell_type": "code",
   "execution_count": 4,
   "id": "professional-nudist",
   "metadata": {},
   "outputs": [
    {
     "output_type": "execute_result",
     "data": {
      "text/plain": [
       "Unnamed: 0     object\n",
       "mod_date       object\n",
       "pub_date       object\n",
       "cvss          float64\n",
       "cwe_code        int64\n",
       "cwe_name       object\n",
       "Unnamed: 6    float64\n",
       "dtype: object"
      ]
     },
     "metadata": {},
     "execution_count": 4
    }
   ],
   "source": [
    "df.dtypes\n",
    "\n",
    "#Can convert to a more appropriate data type\n",
    "#df['mod_date'] = pd.to_datetime(df['mod_date'])\n",
    "#df.head()\n"
   ]
  },
  {
   "cell_type": "code",
   "execution_count": 5,
   "id": "needed-terrain",
   "metadata": {},
   "outputs": [
    {
     "output_type": "execute_result",
     "data": {
      "text/plain": [
       "Unnamed: 0            object\n",
       "mod_date      datetime64[ns]\n",
       "pub_date              object\n",
       "cvss                 float64\n",
       "cwe_code               int64\n",
       "cwe_name              object\n",
       "Unnamed: 6           float64\n",
       "dtype: object"
      ]
     },
     "metadata": {},
     "execution_count": 5
    }
   ],
   "source": [
    "df['mod_date'] = pd.to_datetime(df['mod_date'])\n",
    "#df.head()\n",
    "\n",
    "df.dtypes"
   ]
  },
  {
   "cell_type": "code",
   "execution_count": 6,
   "id": "athletic-mechanics",
   "metadata": {},
   "outputs": [
    {
     "output_type": "execute_result",
     "data": {
      "text/plain": [
       "              CVE            mod_date          pub_date  cvss  cwe_code  \\\n",
       "0  CVE-2019-16548 2019-11-21 15:15:00  21/11/2019 15:15   6.8       352   \n",
       "1  CVE-2019-16547 2019-11-21 15:15:00  21/11/2019 15:15   4.0       732   \n",
       "2  CVE-2019-16546 2019-11-21 15:15:00  21/11/2019 15:15   4.3       639   \n",
       "3   CVE-2013-2092 2019-11-20 21:22:00  20/11/2019 21:15   4.3        79   \n",
       "4   CVE-2013-2091 2019-11-20 20:15:00  20/11/2019 20:15   7.5        89   \n",
       "\n",
       "                                            cwe_name  Unnamed: 6  \n",
       "0                  Cross-Site Request Forgery (CSRF)         NaN  \n",
       "1   Incorrect Permission Assignment for Critical ...         NaN  \n",
       "2   Authorization Bypass Through User-Controlled Key         NaN  \n",
       "3   Improper Neutralization of Input During Web P...         NaN  \n",
       "4   Improper Neutralization of Special Elements u...         NaN  "
      ],
      "text/html": "<div>\n<style scoped>\n    .dataframe tbody tr th:only-of-type {\n        vertical-align: middle;\n    }\n\n    .dataframe tbody tr th {\n        vertical-align: top;\n    }\n\n    .dataframe thead th {\n        text-align: right;\n    }\n</style>\n<table border=\"1\" class=\"dataframe\">\n  <thead>\n    <tr style=\"text-align: right;\">\n      <th></th>\n      <th>CVE</th>\n      <th>mod_date</th>\n      <th>pub_date</th>\n      <th>cvss</th>\n      <th>cwe_code</th>\n      <th>cwe_name</th>\n      <th>Unnamed: 6</th>\n    </tr>\n  </thead>\n  <tbody>\n    <tr>\n      <th>0</th>\n      <td>CVE-2019-16548</td>\n      <td>2019-11-21 15:15:00</td>\n      <td>21/11/2019 15:15</td>\n      <td>6.8</td>\n      <td>352</td>\n      <td>Cross-Site Request Forgery (CSRF)</td>\n      <td>NaN</td>\n    </tr>\n    <tr>\n      <th>1</th>\n      <td>CVE-2019-16547</td>\n      <td>2019-11-21 15:15:00</td>\n      <td>21/11/2019 15:15</td>\n      <td>4.0</td>\n      <td>732</td>\n      <td>Incorrect Permission Assignment for Critical ...</td>\n      <td>NaN</td>\n    </tr>\n    <tr>\n      <th>2</th>\n      <td>CVE-2019-16546</td>\n      <td>2019-11-21 15:15:00</td>\n      <td>21/11/2019 15:15</td>\n      <td>4.3</td>\n      <td>639</td>\n      <td>Authorization Bypass Through User-Controlled Key</td>\n      <td>NaN</td>\n    </tr>\n    <tr>\n      <th>3</th>\n      <td>CVE-2013-2092</td>\n      <td>2019-11-20 21:22:00</td>\n      <td>20/11/2019 21:15</td>\n      <td>4.3</td>\n      <td>79</td>\n      <td>Improper Neutralization of Input During Web P...</td>\n      <td>NaN</td>\n    </tr>\n    <tr>\n      <th>4</th>\n      <td>CVE-2013-2091</td>\n      <td>2019-11-20 20:15:00</td>\n      <td>20/11/2019 20:15</td>\n      <td>7.5</td>\n      <td>89</td>\n      <td>Improper Neutralization of Special Elements u...</td>\n      <td>NaN</td>\n    </tr>\n  </tbody>\n</table>\n</div>"
     },
     "metadata": {},
     "execution_count": 6
    }
   ],
   "source": [
    "#Rename unnamed, use inplace so we don't generate a new dataset\n",
    "df.rename(columns = {'Unnamed: 0':'CVE'}, inplace=True)\n",
    "df.head()\n"
   ]
  },
  {
   "cell_type": "code",
   "execution_count": 15,
   "id": "western-burns",
   "metadata": {},
   "outputs": [
    {
     "data": {
      "text/html": [
       "<div>\n",
       "<style scoped>\n",
       "    .dataframe tbody tr th:only-of-type {\n",
       "        vertical-align: middle;\n",
       "    }\n",
       "\n",
       "    .dataframe tbody tr th {\n",
       "        vertical-align: top;\n",
       "    }\n",
       "\n",
       "    .dataframe thead th {\n",
       "        text-align: right;\n",
       "    }\n",
       "</style>\n",
       "<table border=\"1\" class=\"dataframe\">\n",
       "  <thead>\n",
       "    <tr style=\"text-align: right;\">\n",
       "      <th></th>\n",
       "      <th>CVE</th>\n",
       "      <th>mod_date</th>\n",
       "      <th>pub_date</th>\n",
       "      <th>cvss</th>\n",
       "      <th>cwe_code</th>\n",
       "      <th>cwe_name</th>\n",
       "      <th>Unnamed: 6</th>\n",
       "    </tr>\n",
       "  </thead>\n",
       "  <tbody>\n",
       "    <tr>\n",
       "      <th>0</th>\n",
       "      <td>CVE-2019-16548</td>\n",
       "      <td>2019-11-21 15:15:00</td>\n",
       "      <td>2019-11-21 15:15:00</td>\n",
       "      <td>6.8</td>\n",
       "      <td>352</td>\n",
       "      <td>Cross-Site Request Forgery (CSRF)</td>\n",
       "      <td>NaN</td>\n",
       "    </tr>\n",
       "    <tr>\n",
       "      <th>1</th>\n",
       "      <td>CVE-2019-16547</td>\n",
       "      <td>2019-11-21 15:15:00</td>\n",
       "      <td>2019-11-21 15:15:00</td>\n",
       "      <td>4.0</td>\n",
       "      <td>732</td>\n",
       "      <td>Incorrect Permission Assignment for Critical ...</td>\n",
       "      <td>NaN</td>\n",
       "    </tr>\n",
       "    <tr>\n",
       "      <th>2</th>\n",
       "      <td>CVE-2019-16546</td>\n",
       "      <td>2019-11-21 15:15:00</td>\n",
       "      <td>2019-11-21 15:15:00</td>\n",
       "      <td>4.3</td>\n",
       "      <td>639</td>\n",
       "      <td>Authorization Bypass Through User-Controlled Key</td>\n",
       "      <td>NaN</td>\n",
       "    </tr>\n",
       "    <tr>\n",
       "      <th>3</th>\n",
       "      <td>CVE-2013-2092</td>\n",
       "      <td>2019-11-20 21:22:00</td>\n",
       "      <td>2019-11-20 21:15:00</td>\n",
       "      <td>4.3</td>\n",
       "      <td>79</td>\n",
       "      <td>Improper Neutralization of Input During Web P...</td>\n",
       "      <td>NaN</td>\n",
       "    </tr>\n",
       "    <tr>\n",
       "      <th>4</th>\n",
       "      <td>CVE-2013-2091</td>\n",
       "      <td>2019-11-20 20:15:00</td>\n",
       "      <td>2019-11-20 20:15:00</td>\n",
       "      <td>7.5</td>\n",
       "      <td>89</td>\n",
       "      <td>Improper Neutralization of Special Elements u...</td>\n",
       "      <td>NaN</td>\n",
       "    </tr>\n",
       "  </tbody>\n",
       "</table>\n",
       "</div>"
      ],
      "text/plain": [
       "              CVE            mod_date            pub_date  cvss  cwe_code  \\\n",
       "0  CVE-2019-16548 2019-11-21 15:15:00 2019-11-21 15:15:00   6.8       352   \n",
       "1  CVE-2019-16547 2019-11-21 15:15:00 2019-11-21 15:15:00   4.0       732   \n",
       "2  CVE-2019-16546 2019-11-21 15:15:00 2019-11-21 15:15:00   4.3       639   \n",
       "3   CVE-2013-2092 2019-11-20 21:22:00 2019-11-20 21:15:00   4.3        79   \n",
       "4   CVE-2013-2091 2019-11-20 20:15:00 2019-11-20 20:15:00   7.5        89   \n",
       "\n",
       "                                            cwe_name  Unnamed: 6  \n",
       "0                  Cross-Site Request Forgery (CSRF)         NaN  \n",
       "1   Incorrect Permission Assignment for Critical ...         NaN  \n",
       "2   Authorization Bypass Through User-Controlled Key         NaN  \n",
       "3   Improper Neutralization of Input During Web P...         NaN  \n",
       "4   Improper Neutralization of Special Elements u...         NaN  "
      ]
     },
     "execution_count": 15,
     "metadata": {},
     "output_type": "execute_result"
    }
   ],
   "source": []
  },
  {
   "cell_type": "code",
   "execution_count": 7,
   "id": "included-upper",
   "metadata": {},
   "outputs": [],
   "source": [
    "df1 = pd.DataFrame(np.random.randn(3, 4), columns=['a', 'b', 'c', 'd'])\n",
    "df2 = pd.DataFrame(np.random.randn(2, 3), columns=['b', 'd', 'a'])"
   ]
  },
  {
   "cell_type": "code",
   "execution_count": 8,
   "id": "aging-afghanistan",
   "metadata": {},
   "outputs": [
    {
     "output_type": "execute_result",
     "data": {
      "text/plain": [
       "          a         b         c         d\n",
       "0  0.264319  1.089601 -0.515186 -0.434759\n",
       "1  0.525745 -0.452409  1.194210  0.546480\n",
       "2 -1.255104 -2.290416  1.064857 -1.064007"
      ],
      "text/html": "<div>\n<style scoped>\n    .dataframe tbody tr th:only-of-type {\n        vertical-align: middle;\n    }\n\n    .dataframe tbody tr th {\n        vertical-align: top;\n    }\n\n    .dataframe thead th {\n        text-align: right;\n    }\n</style>\n<table border=\"1\" class=\"dataframe\">\n  <thead>\n    <tr style=\"text-align: right;\">\n      <th></th>\n      <th>a</th>\n      <th>b</th>\n      <th>c</th>\n      <th>d</th>\n    </tr>\n  </thead>\n  <tbody>\n    <tr>\n      <th>0</th>\n      <td>0.264319</td>\n      <td>1.089601</td>\n      <td>-0.515186</td>\n      <td>-0.434759</td>\n    </tr>\n    <tr>\n      <th>1</th>\n      <td>0.525745</td>\n      <td>-0.452409</td>\n      <td>1.194210</td>\n      <td>0.546480</td>\n    </tr>\n    <tr>\n      <th>2</th>\n      <td>-1.255104</td>\n      <td>-2.290416</td>\n      <td>1.064857</td>\n      <td>-1.064007</td>\n    </tr>\n  </tbody>\n</table>\n</div>"
     },
     "metadata": {},
     "execution_count": 8
    }
   ],
   "source": [
    "df1\n"
   ]
  },
  {
   "cell_type": "code",
   "execution_count": 9,
   "id": "immediate-journalism",
   "metadata": {},
   "outputs": [
    {
     "output_type": "execute_result",
     "data": {
      "text/plain": [
       "          b         d         a\n",
       "0 -0.386732 -1.012299 -0.706536\n",
       "1 -0.498602 -0.137377 -0.956840"
      ],
      "text/html": "<div>\n<style scoped>\n    .dataframe tbody tr th:only-of-type {\n        vertical-align: middle;\n    }\n\n    .dataframe tbody tr th {\n        vertical-align: top;\n    }\n\n    .dataframe thead th {\n        text-align: right;\n    }\n</style>\n<table border=\"1\" class=\"dataframe\">\n  <thead>\n    <tr style=\"text-align: right;\">\n      <th></th>\n      <th>b</th>\n      <th>d</th>\n      <th>a</th>\n    </tr>\n  </thead>\n  <tbody>\n    <tr>\n      <th>0</th>\n      <td>-0.386732</td>\n      <td>-1.012299</td>\n      <td>-0.706536</td>\n    </tr>\n    <tr>\n      <th>1</th>\n      <td>-0.498602</td>\n      <td>-0.137377</td>\n      <td>-0.956840</td>\n    </tr>\n  </tbody>\n</table>\n</div>"
     },
     "metadata": {},
     "execution_count": 9
    }
   ],
   "source": [
    "df2"
   ]
  },
  {
   "cell_type": "code",
   "execution_count": 10,
   "id": "declared-needle",
   "metadata": {},
   "outputs": [
    {
     "output_type": "execute_result",
     "data": {
      "text/plain": [
       "          a         b         c         d\n",
       "0  0.264319  1.089601 -0.515186 -0.434759\n",
       "1  0.525745 -0.452409  1.194210  0.546480\n",
       "2 -1.255104 -2.290416  1.064857 -1.064007\n",
       "3 -0.706536 -0.386732       NaN -1.012299\n",
       "4 -0.956840 -0.498602       NaN -0.137377"
      ],
      "text/html": "<div>\n<style scoped>\n    .dataframe tbody tr th:only-of-type {\n        vertical-align: middle;\n    }\n\n    .dataframe tbody tr th {\n        vertical-align: top;\n    }\n\n    .dataframe thead th {\n        text-align: right;\n    }\n</style>\n<table border=\"1\" class=\"dataframe\">\n  <thead>\n    <tr style=\"text-align: right;\">\n      <th></th>\n      <th>a</th>\n      <th>b</th>\n      <th>c</th>\n      <th>d</th>\n    </tr>\n  </thead>\n  <tbody>\n    <tr>\n      <th>0</th>\n      <td>0.264319</td>\n      <td>1.089601</td>\n      <td>-0.515186</td>\n      <td>-0.434759</td>\n    </tr>\n    <tr>\n      <th>1</th>\n      <td>0.525745</td>\n      <td>-0.452409</td>\n      <td>1.194210</td>\n      <td>0.546480</td>\n    </tr>\n    <tr>\n      <th>2</th>\n      <td>-1.255104</td>\n      <td>-2.290416</td>\n      <td>1.064857</td>\n      <td>-1.064007</td>\n    </tr>\n    <tr>\n      <th>3</th>\n      <td>-0.706536</td>\n      <td>-0.386732</td>\n      <td>NaN</td>\n      <td>-1.012299</td>\n    </tr>\n    <tr>\n      <th>4</th>\n      <td>-0.956840</td>\n      <td>-0.498602</td>\n      <td>NaN</td>\n      <td>-0.137377</td>\n    </tr>\n  </tbody>\n</table>\n</div>"
     },
     "metadata": {},
     "execution_count": 10
    }
   ],
   "source": [
    "pd.concat([df1, df2], ignore_index=True)"
   ]
  },
  {
   "cell_type": "code",
   "execution_count": 11,
   "id": "coastal-transfer",
   "metadata": {},
   "outputs": [],
   "source": [
    "df3 = pd.DataFrame({'key': ['b', 'b', 'a', 'c', 'a', 'a', 'b'], 'data1': range(7)})\n",
    "df4 = pd.DataFrame({'key': ['a', 'b', 'd'],'data2': range(3)})"
   ]
  },
  {
   "cell_type": "code",
   "execution_count": 12,
   "id": "relevant-immune",
   "metadata": {},
   "outputs": [
    {
     "output_type": "execute_result",
     "data": {
      "text/plain": [
       "  key  data1\n",
       "0   b      0\n",
       "1   b      1\n",
       "2   a      2\n",
       "3   c      3\n",
       "4   a      4\n",
       "5   a      5\n",
       "6   b      6"
      ],
      "text/html": "<div>\n<style scoped>\n    .dataframe tbody tr th:only-of-type {\n        vertical-align: middle;\n    }\n\n    .dataframe tbody tr th {\n        vertical-align: top;\n    }\n\n    .dataframe thead th {\n        text-align: right;\n    }\n</style>\n<table border=\"1\" class=\"dataframe\">\n  <thead>\n    <tr style=\"text-align: right;\">\n      <th></th>\n      <th>key</th>\n      <th>data1</th>\n    </tr>\n  </thead>\n  <tbody>\n    <tr>\n      <th>0</th>\n      <td>b</td>\n      <td>0</td>\n    </tr>\n    <tr>\n      <th>1</th>\n      <td>b</td>\n      <td>1</td>\n    </tr>\n    <tr>\n      <th>2</th>\n      <td>a</td>\n      <td>2</td>\n    </tr>\n    <tr>\n      <th>3</th>\n      <td>c</td>\n      <td>3</td>\n    </tr>\n    <tr>\n      <th>4</th>\n      <td>a</td>\n      <td>4</td>\n    </tr>\n    <tr>\n      <th>5</th>\n      <td>a</td>\n      <td>5</td>\n    </tr>\n    <tr>\n      <th>6</th>\n      <td>b</td>\n      <td>6</td>\n    </tr>\n  </tbody>\n</table>\n</div>"
     },
     "metadata": {},
     "execution_count": 12
    }
   ],
   "source": [
    "df3"
   ]
  },
  {
   "cell_type": "code",
   "execution_count": 13,
   "id": "muslim-tuner",
   "metadata": {},
   "outputs": [
    {
     "output_type": "execute_result",
     "data": {
      "text/plain": [
       "  key  data2\n",
       "0   a      0\n",
       "1   b      1\n",
       "2   d      2"
      ],
      "text/html": "<div>\n<style scoped>\n    .dataframe tbody tr th:only-of-type {\n        vertical-align: middle;\n    }\n\n    .dataframe tbody tr th {\n        vertical-align: top;\n    }\n\n    .dataframe thead th {\n        text-align: right;\n    }\n</style>\n<table border=\"1\" class=\"dataframe\">\n  <thead>\n    <tr style=\"text-align: right;\">\n      <th></th>\n      <th>key</th>\n      <th>data2</th>\n    </tr>\n  </thead>\n  <tbody>\n    <tr>\n      <th>0</th>\n      <td>a</td>\n      <td>0</td>\n    </tr>\n    <tr>\n      <th>1</th>\n      <td>b</td>\n      <td>1</td>\n    </tr>\n    <tr>\n      <th>2</th>\n      <td>d</td>\n      <td>2</td>\n    </tr>\n  </tbody>\n</table>\n</div>"
     },
     "metadata": {},
     "execution_count": 13
    }
   ],
   "source": [
    "df4"
   ]
  },
  {
   "cell_type": "code",
   "execution_count": 14,
   "id": "lucky-maria",
   "metadata": {},
   "outputs": [],
   "source": [
    "df5= pd.merge(df3, df4, on='key')"
   ]
  },
  {
   "cell_type": "code",
   "execution_count": 15,
   "id": "round-utilization",
   "metadata": {},
   "outputs": [
    {
     "output_type": "execute_result",
     "data": {
      "text/plain": [
       "  key  data1  data2\n",
       "0   b      0      1\n",
       "1   b      1      1\n",
       "2   b      6      1\n",
       "3   a      2      0\n",
       "4   a      4      0\n",
       "5   a      5      0"
      ],
      "text/html": "<div>\n<style scoped>\n    .dataframe tbody tr th:only-of-type {\n        vertical-align: middle;\n    }\n\n    .dataframe tbody tr th {\n        vertical-align: top;\n    }\n\n    .dataframe thead th {\n        text-align: right;\n    }\n</style>\n<table border=\"1\" class=\"dataframe\">\n  <thead>\n    <tr style=\"text-align: right;\">\n      <th></th>\n      <th>key</th>\n      <th>data1</th>\n      <th>data2</th>\n    </tr>\n  </thead>\n  <tbody>\n    <tr>\n      <th>0</th>\n      <td>b</td>\n      <td>0</td>\n      <td>1</td>\n    </tr>\n    <tr>\n      <th>1</th>\n      <td>b</td>\n      <td>1</td>\n      <td>1</td>\n    </tr>\n    <tr>\n      <th>2</th>\n      <td>b</td>\n      <td>6</td>\n      <td>1</td>\n    </tr>\n    <tr>\n      <th>3</th>\n      <td>a</td>\n      <td>2</td>\n      <td>0</td>\n    </tr>\n    <tr>\n      <th>4</th>\n      <td>a</td>\n      <td>4</td>\n      <td>0</td>\n    </tr>\n    <tr>\n      <th>5</th>\n      <td>a</td>\n      <td>5</td>\n      <td>0</td>\n    </tr>\n  </tbody>\n</table>\n</div>"
     },
     "metadata": {},
     "execution_count": 15
    }
   ],
   "source": [
    "df5"
   ]
  },
  {
   "cell_type": "code",
   "execution_count": 16,
   "id": "mysterious-ethnic",
   "metadata": {},
   "outputs": [
    {
     "output_type": "execute_result",
     "data": {
      "text/plain": [
       "  key  data1  data2\n",
       "0   b    0.0    1.0\n",
       "1   b    1.0    1.0\n",
       "2   b    6.0    1.0\n",
       "3   a    2.0    0.0\n",
       "4   a    4.0    0.0\n",
       "5   a    5.0    0.0\n",
       "6   c    3.0    NaN\n",
       "7   d    NaN    2.0"
      ],
      "text/html": "<div>\n<style scoped>\n    .dataframe tbody tr th:only-of-type {\n        vertical-align: middle;\n    }\n\n    .dataframe tbody tr th {\n        vertical-align: top;\n    }\n\n    .dataframe thead th {\n        text-align: right;\n    }\n</style>\n<table border=\"1\" class=\"dataframe\">\n  <thead>\n    <tr style=\"text-align: right;\">\n      <th></th>\n      <th>key</th>\n      <th>data1</th>\n      <th>data2</th>\n    </tr>\n  </thead>\n  <tbody>\n    <tr>\n      <th>0</th>\n      <td>b</td>\n      <td>0.0</td>\n      <td>1.0</td>\n    </tr>\n    <tr>\n      <th>1</th>\n      <td>b</td>\n      <td>1.0</td>\n      <td>1.0</td>\n    </tr>\n    <tr>\n      <th>2</th>\n      <td>b</td>\n      <td>6.0</td>\n      <td>1.0</td>\n    </tr>\n    <tr>\n      <th>3</th>\n      <td>a</td>\n      <td>2.0</td>\n      <td>0.0</td>\n    </tr>\n    <tr>\n      <th>4</th>\n      <td>a</td>\n      <td>4.0</td>\n      <td>0.0</td>\n    </tr>\n    <tr>\n      <th>5</th>\n      <td>a</td>\n      <td>5.0</td>\n      <td>0.0</td>\n    </tr>\n    <tr>\n      <th>6</th>\n      <td>c</td>\n      <td>3.0</td>\n      <td>NaN</td>\n    </tr>\n    <tr>\n      <th>7</th>\n      <td>d</td>\n      <td>NaN</td>\n      <td>2.0</td>\n    </tr>\n  </tbody>\n</table>\n</div>"
     },
     "metadata": {},
     "execution_count": 16
    }
   ],
   "source": [
    "df6= pd.merge(df3, df4, on='key', how='outer')\n",
    "df6"
   ]
  },
  {
   "cell_type": "code",
   "execution_count": 17,
   "id": "laden-nerve",
   "metadata": {},
   "outputs": [],
   "source": [
    "df7 = pd.DataFrame({'a': [1., np.nan, 5., np.nan],'b': [np.nan, 2., np.nan, 6.],'c': range(2, 18, 4)})\n",
    "df8 = pd.DataFrame({'a': [5., 4., np.nan, 3., 7.],'b': [np.nan, 3., 4., 6., 8.]})"
   ]
  },
  {
   "cell_type": "code",
   "execution_count": 18,
   "id": "handy-registration",
   "metadata": {},
   "outputs": [
    {
     "output_type": "execute_result",
     "data": {
      "text/plain": [
       "     a    b   c\n",
       "0  1.0  NaN   2\n",
       "1  NaN  2.0   6\n",
       "2  5.0  NaN  10\n",
       "3  NaN  6.0  14"
      ],
      "text/html": "<div>\n<style scoped>\n    .dataframe tbody tr th:only-of-type {\n        vertical-align: middle;\n    }\n\n    .dataframe tbody tr th {\n        vertical-align: top;\n    }\n\n    .dataframe thead th {\n        text-align: right;\n    }\n</style>\n<table border=\"1\" class=\"dataframe\">\n  <thead>\n    <tr style=\"text-align: right;\">\n      <th></th>\n      <th>a</th>\n      <th>b</th>\n      <th>c</th>\n    </tr>\n  </thead>\n  <tbody>\n    <tr>\n      <th>0</th>\n      <td>1.0</td>\n      <td>NaN</td>\n      <td>2</td>\n    </tr>\n    <tr>\n      <th>1</th>\n      <td>NaN</td>\n      <td>2.0</td>\n      <td>6</td>\n    </tr>\n    <tr>\n      <th>2</th>\n      <td>5.0</td>\n      <td>NaN</td>\n      <td>10</td>\n    </tr>\n    <tr>\n      <th>3</th>\n      <td>NaN</td>\n      <td>6.0</td>\n      <td>14</td>\n    </tr>\n  </tbody>\n</table>\n</div>"
     },
     "metadata": {},
     "execution_count": 18
    }
   ],
   "source": [
    "df7"
   ]
  },
  {
   "cell_type": "code",
   "execution_count": 19,
   "id": "geographic-eight",
   "metadata": {},
   "outputs": [
    {
     "output_type": "execute_result",
     "data": {
      "text/plain": [
       "     a    b\n",
       "0  5.0  NaN\n",
       "1  4.0  3.0\n",
       "2  NaN  4.0\n",
       "3  3.0  6.0\n",
       "4  7.0  8.0"
      ],
      "text/html": "<div>\n<style scoped>\n    .dataframe tbody tr th:only-of-type {\n        vertical-align: middle;\n    }\n\n    .dataframe tbody tr th {\n        vertical-align: top;\n    }\n\n    .dataframe thead th {\n        text-align: right;\n    }\n</style>\n<table border=\"1\" class=\"dataframe\">\n  <thead>\n    <tr style=\"text-align: right;\">\n      <th></th>\n      <th>a</th>\n      <th>b</th>\n    </tr>\n  </thead>\n  <tbody>\n    <tr>\n      <th>0</th>\n      <td>5.0</td>\n      <td>NaN</td>\n    </tr>\n    <tr>\n      <th>1</th>\n      <td>4.0</td>\n      <td>3.0</td>\n    </tr>\n    <tr>\n      <th>2</th>\n      <td>NaN</td>\n      <td>4.0</td>\n    </tr>\n    <tr>\n      <th>3</th>\n      <td>3.0</td>\n      <td>6.0</td>\n    </tr>\n    <tr>\n      <th>4</th>\n      <td>7.0</td>\n      <td>8.0</td>\n    </tr>\n  </tbody>\n</table>\n</div>"
     },
     "metadata": {},
     "execution_count": 19
    }
   ],
   "source": [
    "df8"
   ]
  },
  {
   "cell_type": "code",
   "execution_count": 20,
   "id": "funny-sperm",
   "metadata": {},
   "outputs": [
    {
     "output_type": "execute_result",
     "data": {
      "text/plain": [
       "     a    b     c\n",
       "0  1.0  NaN   2.0\n",
       "1  4.0  2.0   6.0\n",
       "2  5.0  4.0  10.0\n",
       "3  3.0  6.0  14.0\n",
       "4  7.0  8.0   NaN"
      ],
      "text/html": "<div>\n<style scoped>\n    .dataframe tbody tr th:only-of-type {\n        vertical-align: middle;\n    }\n\n    .dataframe tbody tr th {\n        vertical-align: top;\n    }\n\n    .dataframe thead th {\n        text-align: right;\n    }\n</style>\n<table border=\"1\" class=\"dataframe\">\n  <thead>\n    <tr style=\"text-align: right;\">\n      <th></th>\n      <th>a</th>\n      <th>b</th>\n      <th>c</th>\n    </tr>\n  </thead>\n  <tbody>\n    <tr>\n      <th>0</th>\n      <td>1.0</td>\n      <td>NaN</td>\n      <td>2.0</td>\n    </tr>\n    <tr>\n      <th>1</th>\n      <td>4.0</td>\n      <td>2.0</td>\n      <td>6.0</td>\n    </tr>\n    <tr>\n      <th>2</th>\n      <td>5.0</td>\n      <td>4.0</td>\n      <td>10.0</td>\n    </tr>\n    <tr>\n      <th>3</th>\n      <td>3.0</td>\n      <td>6.0</td>\n      <td>14.0</td>\n    </tr>\n    <tr>\n      <th>4</th>\n      <td>7.0</td>\n      <td>8.0</td>\n      <td>NaN</td>\n    </tr>\n  </tbody>\n</table>\n</div>"
     },
     "metadata": {},
     "execution_count": 20
    }
   ],
   "source": [
    "df7.combine_first(df8)"
   ]
  },
  {
   "cell_type": "code",
   "execution_count": 21,
   "id": "violent-metabolism",
   "metadata": {},
   "outputs": [
    {
     "output_type": "execute_result",
     "data": {
      "text/plain": [
       "              CVE            mod_date          pub_date  cvss  cwe_code  \\\n",
       "0  CVE-2019-16548 2019-11-21 15:15:00  21/11/2019 15:15   6.8       352   \n",
       "1  CVE-2019-16547 2019-11-21 15:15:00  21/11/2019 15:15   4.0       732   \n",
       "2  CVE-2019-16546 2019-11-21 15:15:00  21/11/2019 15:15   4.3       639   \n",
       "3   CVE-2013-2092 2019-11-20 21:22:00  20/11/2019 21:15   4.3        79   \n",
       "4   CVE-2013-2091 2019-11-20 20:15:00  20/11/2019 20:15   7.5        89   \n",
       "\n",
       "                                            cwe_name  Unnamed: 6 CVE-Year  \n",
       "0                  Cross-Site Request Forgery (CSRF)         NaN     2019  \n",
       "1   Incorrect Permission Assignment for Critical ...         NaN     2019  \n",
       "2   Authorization Bypass Through User-Controlled Key         NaN     2019  \n",
       "3   Improper Neutralization of Input During Web P...         NaN     2013  \n",
       "4   Improper Neutralization of Special Elements u...         NaN     2013  "
      ],
      "text/html": "<div>\n<style scoped>\n    .dataframe tbody tr th:only-of-type {\n        vertical-align: middle;\n    }\n\n    .dataframe tbody tr th {\n        vertical-align: top;\n    }\n\n    .dataframe thead th {\n        text-align: right;\n    }\n</style>\n<table border=\"1\" class=\"dataframe\">\n  <thead>\n    <tr style=\"text-align: right;\">\n      <th></th>\n      <th>CVE</th>\n      <th>mod_date</th>\n      <th>pub_date</th>\n      <th>cvss</th>\n      <th>cwe_code</th>\n      <th>cwe_name</th>\n      <th>Unnamed: 6</th>\n      <th>CVE-Year</th>\n    </tr>\n  </thead>\n  <tbody>\n    <tr>\n      <th>0</th>\n      <td>CVE-2019-16548</td>\n      <td>2019-11-21 15:15:00</td>\n      <td>21/11/2019 15:15</td>\n      <td>6.8</td>\n      <td>352</td>\n      <td>Cross-Site Request Forgery (CSRF)</td>\n      <td>NaN</td>\n      <td>2019</td>\n    </tr>\n    <tr>\n      <th>1</th>\n      <td>CVE-2019-16547</td>\n      <td>2019-11-21 15:15:00</td>\n      <td>21/11/2019 15:15</td>\n      <td>4.0</td>\n      <td>732</td>\n      <td>Incorrect Permission Assignment for Critical ...</td>\n      <td>NaN</td>\n      <td>2019</td>\n    </tr>\n    <tr>\n      <th>2</th>\n      <td>CVE-2019-16546</td>\n      <td>2019-11-21 15:15:00</td>\n      <td>21/11/2019 15:15</td>\n      <td>4.3</td>\n      <td>639</td>\n      <td>Authorization Bypass Through User-Controlled Key</td>\n      <td>NaN</td>\n      <td>2019</td>\n    </tr>\n    <tr>\n      <th>3</th>\n      <td>CVE-2013-2092</td>\n      <td>2019-11-20 21:22:00</td>\n      <td>20/11/2019 21:15</td>\n      <td>4.3</td>\n      <td>79</td>\n      <td>Improper Neutralization of Input During Web P...</td>\n      <td>NaN</td>\n      <td>2013</td>\n    </tr>\n    <tr>\n      <th>4</th>\n      <td>CVE-2013-2091</td>\n      <td>2019-11-20 20:15:00</td>\n      <td>20/11/2019 20:15</td>\n      <td>7.5</td>\n      <td>89</td>\n      <td>Improper Neutralization of Special Elements u...</td>\n      <td>NaN</td>\n      <td>2013</td>\n    </tr>\n  </tbody>\n</table>\n</div>"
     },
     "metadata": {},
     "execution_count": 21
    }
   ],
   "source": [
    "def get_year(all_CVE):\n",
    "    lst = []\n",
    "    for c in all_CVE.split(\"-\"):\n",
    "        lst.append(c)\n",
    "    return lst[1]\n",
    "\n",
    "df[\"CVE-Year\"] = df[\"CVE\"].apply(get_year) \n",
    "df.head()"
   ]
  },
  {
   "cell_type": "code",
   "execution_count": 22,
   "id": "extensive-intersection",
   "metadata": {},
   "outputs": [
    {
     "output_type": "execute_result",
     "data": {
      "text/plain": [
       "CVE-Year\n",
       "1999       50\n",
       "2000       20\n",
       "2001       36\n",
       "2002      230\n",
       "2003      282\n",
       "2004      162\n",
       "2005      362\n",
       "2006      963\n",
       "2007     2603\n",
       "2008     6235\n",
       "2009     4161\n",
       "2010     3974\n",
       "2011     3724\n",
       "2012     4133\n",
       "2013     4665\n",
       "2014     6951\n",
       "2015     6533\n",
       "2016     7995\n",
       "2017    12172\n",
       "2018    13624\n",
       "2019    10785\n",
       "Name: CVE, dtype: int64"
      ]
     },
     "metadata": {},
     "execution_count": 22
    }
   ],
   "source": [
    "Our_grouped_CVEs= df.groupby('CVE-Year') ['CVE'].count()\n",
    "Our_grouped_CVEs"
   ]
  },
  {
   "cell_type": "code",
   "execution_count": 23,
   "id": "cubic-buddy",
   "metadata": {},
   "outputs": [
    {
     "output_type": "execute_result",
     "data": {
      "text/plain": [
       "                 cwe_code\n",
       "CVE-Year cvss            \n",
       "1999     2.1   200.000000\n",
       "         2.6   362.000000\n",
       "         4.3   110.000000\n",
       "         4.6    76.500000\n",
       "         5.0   148.714286\n",
       "...                   ...\n",
       "2019     9.0   136.561837\n",
       "         9.3   256.286713\n",
       "         9.4   287.000000\n",
       "         9.7   256.500000\n",
       "         10.0  299.658793\n",
       "\n",
       "[859 rows x 1 columns]"
      ],
      "text/html": "<div>\n<style scoped>\n    .dataframe tbody tr th:only-of-type {\n        vertical-align: middle;\n    }\n\n    .dataframe tbody tr th {\n        vertical-align: top;\n    }\n\n    .dataframe thead th {\n        text-align: right;\n    }\n</style>\n<table border=\"1\" class=\"dataframe\">\n  <thead>\n    <tr style=\"text-align: right;\">\n      <th></th>\n      <th></th>\n      <th>cwe_code</th>\n    </tr>\n    <tr>\n      <th>CVE-Year</th>\n      <th>cvss</th>\n      <th></th>\n    </tr>\n  </thead>\n  <tbody>\n    <tr>\n      <th rowspan=\"5\" valign=\"top\">1999</th>\n      <th>2.1</th>\n      <td>200.000000</td>\n    </tr>\n    <tr>\n      <th>2.6</th>\n      <td>362.000000</td>\n    </tr>\n    <tr>\n      <th>4.3</th>\n      <td>110.000000</td>\n    </tr>\n    <tr>\n      <th>4.6</th>\n      <td>76.500000</td>\n    </tr>\n    <tr>\n      <th>5.0</th>\n      <td>148.714286</td>\n    </tr>\n    <tr>\n      <th>...</th>\n      <th>...</th>\n      <td>...</td>\n    </tr>\n    <tr>\n      <th rowspan=\"5\" valign=\"top\">2019</th>\n      <th>9.0</th>\n      <td>136.561837</td>\n    </tr>\n    <tr>\n      <th>9.3</th>\n      <td>256.286713</td>\n    </tr>\n    <tr>\n      <th>9.4</th>\n      <td>287.000000</td>\n    </tr>\n    <tr>\n      <th>9.7</th>\n      <td>256.500000</td>\n    </tr>\n    <tr>\n      <th>10.0</th>\n      <td>299.658793</td>\n    </tr>\n  </tbody>\n</table>\n<p>859 rows × 1 columns</p>\n</div>"
     },
     "metadata": {},
     "execution_count": 23
    }
   ],
   "source": [
    "df.pivot_table(index=['CVE-Year', 'cvss'])"
   ]
  },
  {
   "cell_type": "code",
   "execution_count": 24,
   "id": "micro-directory",
   "metadata": {},
   "outputs": [
    {
     "output_type": "execute_result",
     "data": {
      "text/plain": [
       "                  CVE            mod_date          pub_date  cvss  cwe_code  \\\n",
       "0      CVE-2019-16548 2019-11-21 15:15:00  21/11/2019 15:15   6.8       352   \n",
       "13490  CVE-2019-15117 2019-06-09 00:15:00  16/08/2019 14:15   4.6       119   \n",
       "13492  CVE-2019-10140 2019-06-09 00:15:00  15/08/2019 17:15   4.9       476   \n",
       "13495  CVE-2019-15745 2019-05-09 21:23:00  29/08/2019 13:15   3.3       798   \n",
       "13496  CVE-2019-13520 2019-05-09 21:15:00  20/08/2019 20:15   6.8       119   \n",
       "...               ...                 ...               ...   ...       ...   \n",
       "35753   CVE-1999-0766 2018-12-10 21:29:00   21/10/1999 4:00   9.3        16   \n",
       "35752   CVE-1999-0777 2018-12-10 21:29:00   23/09/1999 4:00   7.5       264   \n",
       "35751   CVE-1999-0794 2018-12-10 21:29:00    1/10/1999 4:00   4.6        59   \n",
       "35750   CVE-1999-0802 2018-12-10 21:29:00   27/05/1999 4:00   7.6       119   \n",
       "35757   CVE-1999-0725 2018-12-10 21:29:00   19/08/1999 4:00   7.1        16   \n",
       "\n",
       "                                                cwe_name  Unnamed: 6 CVE-Year  \n",
       "0                      Cross-Site Request Forgery (CSRF)         NaN     2019  \n",
       "13490   Improper Restriction of Operations within the...         NaN     2019  \n",
       "13492                           NULL Pointer Dereference         NaN     2019  \n",
       "13495                      Use of Hard-coded Credentials         NaN     2019  \n",
       "13496   Improper Restriction of Operations within the...         NaN     2019  \n",
       "...                                                  ...         ...      ...  \n",
       "35753                                      Configuration         NaN     1999  \n",
       "35752         Permissions Privileges and Access Controls         NaN     1999  \n",
       "35751   Improper Link Resolution Before File Access (...         NaN     1999  \n",
       "35750   Improper Restriction of Operations within the...         NaN     1999  \n",
       "35757                                      Configuration         NaN     1999  \n",
       "\n",
       "[89660 rows x 8 columns]"
      ],
      "text/html": "<div>\n<style scoped>\n    .dataframe tbody tr th:only-of-type {\n        vertical-align: middle;\n    }\n\n    .dataframe tbody tr th {\n        vertical-align: top;\n    }\n\n    .dataframe thead th {\n        text-align: right;\n    }\n</style>\n<table border=\"1\" class=\"dataframe\">\n  <thead>\n    <tr style=\"text-align: right;\">\n      <th></th>\n      <th>CVE</th>\n      <th>mod_date</th>\n      <th>pub_date</th>\n      <th>cvss</th>\n      <th>cwe_code</th>\n      <th>cwe_name</th>\n      <th>Unnamed: 6</th>\n      <th>CVE-Year</th>\n    </tr>\n  </thead>\n  <tbody>\n    <tr>\n      <th>0</th>\n      <td>CVE-2019-16548</td>\n      <td>2019-11-21 15:15:00</td>\n      <td>21/11/2019 15:15</td>\n      <td>6.8</td>\n      <td>352</td>\n      <td>Cross-Site Request Forgery (CSRF)</td>\n      <td>NaN</td>\n      <td>2019</td>\n    </tr>\n    <tr>\n      <th>13490</th>\n      <td>CVE-2019-15117</td>\n      <td>2019-06-09 00:15:00</td>\n      <td>16/08/2019 14:15</td>\n      <td>4.6</td>\n      <td>119</td>\n      <td>Improper Restriction of Operations within the...</td>\n      <td>NaN</td>\n      <td>2019</td>\n    </tr>\n    <tr>\n      <th>13492</th>\n      <td>CVE-2019-10140</td>\n      <td>2019-06-09 00:15:00</td>\n      <td>15/08/2019 17:15</td>\n      <td>4.9</td>\n      <td>476</td>\n      <td>NULL Pointer Dereference</td>\n      <td>NaN</td>\n      <td>2019</td>\n    </tr>\n    <tr>\n      <th>13495</th>\n      <td>CVE-2019-15745</td>\n      <td>2019-05-09 21:23:00</td>\n      <td>29/08/2019 13:15</td>\n      <td>3.3</td>\n      <td>798</td>\n      <td>Use of Hard-coded Credentials</td>\n      <td>NaN</td>\n      <td>2019</td>\n    </tr>\n    <tr>\n      <th>13496</th>\n      <td>CVE-2019-13520</td>\n      <td>2019-05-09 21:15:00</td>\n      <td>20/08/2019 20:15</td>\n      <td>6.8</td>\n      <td>119</td>\n      <td>Improper Restriction of Operations within the...</td>\n      <td>NaN</td>\n      <td>2019</td>\n    </tr>\n    <tr>\n      <th>...</th>\n      <td>...</td>\n      <td>...</td>\n      <td>...</td>\n      <td>...</td>\n      <td>...</td>\n      <td>...</td>\n      <td>...</td>\n      <td>...</td>\n    </tr>\n    <tr>\n      <th>35753</th>\n      <td>CVE-1999-0766</td>\n      <td>2018-12-10 21:29:00</td>\n      <td>21/10/1999 4:00</td>\n      <td>9.3</td>\n      <td>16</td>\n      <td>Configuration</td>\n      <td>NaN</td>\n      <td>1999</td>\n    </tr>\n    <tr>\n      <th>35752</th>\n      <td>CVE-1999-0777</td>\n      <td>2018-12-10 21:29:00</td>\n      <td>23/09/1999 4:00</td>\n      <td>7.5</td>\n      <td>264</td>\n      <td>Permissions Privileges and Access Controls</td>\n      <td>NaN</td>\n      <td>1999</td>\n    </tr>\n    <tr>\n      <th>35751</th>\n      <td>CVE-1999-0794</td>\n      <td>2018-12-10 21:29:00</td>\n      <td>1/10/1999 4:00</td>\n      <td>4.6</td>\n      <td>59</td>\n      <td>Improper Link Resolution Before File Access (...</td>\n      <td>NaN</td>\n      <td>1999</td>\n    </tr>\n    <tr>\n      <th>35750</th>\n      <td>CVE-1999-0802</td>\n      <td>2018-12-10 21:29:00</td>\n      <td>27/05/1999 4:00</td>\n      <td>7.6</td>\n      <td>119</td>\n      <td>Improper Restriction of Operations within the...</td>\n      <td>NaN</td>\n      <td>1999</td>\n    </tr>\n    <tr>\n      <th>35757</th>\n      <td>CVE-1999-0725</td>\n      <td>2018-12-10 21:29:00</td>\n      <td>19/08/1999 4:00</td>\n      <td>7.1</td>\n      <td>16</td>\n      <td>Configuration</td>\n      <td>NaN</td>\n      <td>1999</td>\n    </tr>\n  </tbody>\n</table>\n<p>89660 rows × 8 columns</p>\n</div>"
     },
     "metadata": {},
     "execution_count": 24
    }
   ],
   "source": [
    "df.sort_values(by=['CVE-Year'], ascending=False)\n"
   ]
  },
  {
   "cell_type": "code",
   "execution_count": null,
   "id": "listed-background",
   "metadata": {},
   "outputs": [],
   "source": []
  }
 ],
 "metadata": {
  "kernelspec": {
   "name": "python3",
   "display_name": "Python 3.8.2 64-bit",
   "metadata": {
    "interpreter": {
     "hash": "aee8b7b246df8f9039afb4144a1f6fd8d2ca17a180786b69acc140d282b71a49"
    }
   }
  },
  "language_info": {
   "codemirror_mode": {
    "name": "ipython",
    "version": 3
   },
   "file_extension": ".py",
   "mimetype": "text/x-python",
   "name": "python",
   "nbconvert_exporter": "python",
   "pygments_lexer": "ipython3",
   "version": "3.8.2-final"
  }
 },
 "nbformat": 4,
 "nbformat_minor": 5
}