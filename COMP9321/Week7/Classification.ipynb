{
 "cells": [
  {
   "cell_type": "code",
   "execution_count": 1,
   "id": "recorded-budapest",
   "metadata": {},
   "outputs": [
    {
     "output_type": "error",
     "ename": "ModuleNotFoundError",
     "evalue": "No module named 'sklearn'",
     "traceback": [
      "\u001b[0;31m---------------------------------------------------------------------------\u001b[0m",
      "\u001b[0;31mModuleNotFoundError\u001b[0m                       Traceback (most recent call last)",
      "\u001b[0;32m<ipython-input-1-70664f9b93a9>\u001b[0m in \u001b[0;36m<module>\u001b[0;34m\u001b[0m\n\u001b[1;32m      1\u001b[0m \u001b[0;32mimport\u001b[0m \u001b[0mpandas\u001b[0m \u001b[0;32mas\u001b[0m \u001b[0mpd\u001b[0m\u001b[0;34m\u001b[0m\u001b[0;34m\u001b[0m\u001b[0m\n\u001b[0;32m----> 2\u001b[0;31m \u001b[0;32mfrom\u001b[0m \u001b[0msklearn\u001b[0m\u001b[0;34m.\u001b[0m\u001b[0mmetrics\u001b[0m \u001b[0;32mimport\u001b[0m \u001b[0mconfusion_matrix\u001b[0m\u001b[0;34m\u001b[0m\u001b[0;34m\u001b[0m\u001b[0m\n\u001b[0m\u001b[1;32m      3\u001b[0m \u001b[0;32mfrom\u001b[0m \u001b[0msklearn\u001b[0m\u001b[0;34m.\u001b[0m\u001b[0mneighbors\u001b[0m \u001b[0;32mimport\u001b[0m \u001b[0mKNeighborsClassifier\u001b[0m\u001b[0;34m\u001b[0m\u001b[0;34m\u001b[0m\u001b[0m\n\u001b[1;32m      4\u001b[0m \u001b[0;32mfrom\u001b[0m \u001b[0msklearn\u001b[0m\u001b[0;34m.\u001b[0m\u001b[0mutils\u001b[0m \u001b[0;32mimport\u001b[0m \u001b[0mshuffle\u001b[0m\u001b[0;34m\u001b[0m\u001b[0;34m\u001b[0m\u001b[0m\n\u001b[1;32m      5\u001b[0m \u001b[0;32mfrom\u001b[0m \u001b[0msklearn\u001b[0m\u001b[0;34m.\u001b[0m\u001b[0mmetrics\u001b[0m \u001b[0;32mimport\u001b[0m \u001b[0mprecision_score\u001b[0m\u001b[0;34m,\u001b[0m \u001b[0maccuracy_score\u001b[0m\u001b[0;34m,\u001b[0m \u001b[0mrecall_score\u001b[0m\u001b[0;34m\u001b[0m\u001b[0;34m\u001b[0m\u001b[0m\n",
      "\u001b[0;31mModuleNotFoundError\u001b[0m: No module named 'sklearn'"
     ]
    }
   ],
   "source": [
    "import pandas as pd\n",
    "from sklearn.metrics import confusion_matrix\n",
    "from sklearn.neighbors import KNeighborsClassifier\n",
    "from sklearn.utils import shuffle\n",
    "from sklearn.metrics import precision_score, accuracy_score, recall_score\n",
    "import matplotlib.pyplot as plt\n",
    "\n",
    "csv_file = 'iris.csv'\n",
    "df = pd.read_csv(csv_file)\n",
    "\n",
    "# divide the dataset into three dataframes based on the species\n",
    "setosa_df = df.query('species == \"setosa\"')\n",
    "versicolor_df = df.query('species == \"versicolor\"')\n",
    "virginica_df = df.query('species == \"virginica\"')\n",
    "\n",
    "fig, axes = plt.subplots(nrows=1, ncols=2)\n",
    "\n",
    "# Plot a scatter chart using x='sepal_length', y='sepal_width', and separate colors for each of the three dataframes\n",
    "ax = setosa_df.plot.scatter(x='sepal_length', y='sepal_width', label='setosa', ax=axes[0])\n",
    "ax = versicolor_df.plot.scatter(x='sepal_length', y='sepal_width', label='versicolor', color='green', ax=ax)\n",
    "ax = virginica_df.plot.scatter(x='sepal_length', y='sepal_width', label='virginica', color='red', ax=ax)\n",
    "\n",
    "# Plot a scatter chart using x='petal_length', y='petal_width', and separate colors for each of the three dataframes\n",
    "ax = setosa_df.plot.scatter(x='petal_length', y='petal_width', label='setosa', ax=axes[1])\n",
    "ax = versicolor_df.plot.scatter(x='petal_length', y='petal_width', label='versicolor', color='green', ax=ax)\n",
    "ax = virginica_df.plot.scatter(x='petal_length', y='petal_width', label='virginica', color='red', ax=ax)\n",
    "\n",
    "\n",
    "#This plot can help us see general insights into the data and give us an overview.\n",
    "plt.show()\n"
   ]
  },
  {
   "cell_type": "code",
   "execution_count": 5,
   "id": "altered-demographic",
   "metadata": {},
   "outputs": [
    {
     "data": {
      "image/png": "[encoded data removed]",
      "text/plain": [
       "<Figure size 432x288 with 1 Axes>"
      ]
     },
     "metadata": {
      "needs_background": "light"
     },
     "output_type": "display_data"
    }
   ],
   "source": [
    "def load_iris(iris_path, split_percentage):\n",
    "    df = pd.read_csv(iris_path)\n",
    "\n",
    "    df = shuffle(df)\n",
    "    iris_x = df.drop('species', axis=1).values\n",
    "    iris_y = df['species'].values\n",
    "\n",
    "    # Split iris data in train and test data\n",
    "    # A random permutation, to split the data randomly\n",
    "\n",
    "    split_point = int(len(iris_x) * split_percentage)\n",
    "    iris_X_train = iris_x[:split_point]\n",
    "    iris_y_train = iris_y[:split_point]\n",
    "    iris_X_test = iris_x[split_point:]\n",
    "    iris_y_test = iris_y[split_point:]\n",
    "\n",
    "    return iris_X_train, iris_y_train, iris_X_test, iris_y_test\n",
    "\n",
    "\n",
    "if __name__ == '__main__':\n",
    "    csv_file = 'iris.csv'\n",
    "\n",
    "    # Split the data into test and train parts\n",
    "    #70 train/30 test split is common\n",
    "    iris_X_train, iris_y_train, iris_X_test, iris_y_test = load_iris(csv_file, split_percentage=0.7)\n",
    "\n",
    "    # train a classifier\n",
    "    #Help choose k range\n",
    "    k_range =range(1,100)\n",
    "    scores_list =[]\n",
    "    #Train all different train values and put the accuracy into the scores_list\n",
    "    #We can then find which k gives us the best score\n",
    "    for k in k_range:\n",
    "        knn = KNeighborsClassifier(n_neighbors=k)\n",
    "        knn.fit(iris_X_train, iris_y_train)\n",
    "        # predict the test set\n",
    "        predictions = knn.predict(iris_X_test)\n",
    "        scores_list.append(accuracy_score(iris_y_test, predictions))\n",
    "    \n",
    "    #Show which k gives best accuracy\n",
    "    #We can see k between 5 and 12 would be best case. \n",
    "    #Since sample is randomised we may not always get the same answer\n",
    "    #Again, the larger the dataset the more consistent the output.\n",
    "    plt.plot(k_range,scores_list)\n",
    "    plt.xlabel('value for K in KNN')\n",
    "    plt.ylabel('testing accuracy')\n",
    "    #print (scores_list)\n",
    "\n",
    "\n",
    "#Printing precision and recall can help us determine false positives, false negatives etc.\n",
    "    #print(\"precision:\\t\", precision_score(iris_y_test, predictions, average=None))\n",
    "    #print(\"recall:\\t\\t\", recall_score(iris_y_test, predictions, average=None))\n",
    "    #print(\"confusion_matrix:\\n\", confusion_matrix(iris_y_test, predictions))"
   ]
  },
  {
   "cell_type": "code",
   "execution_count": null,
   "id": "authentic-franklin",
   "metadata": {},
   "outputs": [],
   "source": []
  },
  {
   "cell_type": "code",
   "execution_count": null,
   "id": "vocal-latino",
   "metadata": {},
   "outputs": [],
   "source": []
  },
  {
   "cell_type": "code",
   "execution_count": null,
   "id": "normal-royalty",
   "metadata": {},
   "outputs": [],
   "source": []
  }
 ],
 "metadata": {
  "kernelspec": {
   "name": "python3",
   "display_name": "Python 3.8.2 64-bit",
   "metadata": {
    "interpreter": {
     "hash": "aee8b7b246df8f9039afb4144a1f6fd8d2ca17a180786b69acc140d282b71a49"
    }
   }
  },
  "language_info": {
   "codemirror_mode": {
    "name": "ipython",
    "version": 3
   },
   "file_extension": ".py",
   "mimetype": "text/x-python",
   "name": "python",
   "nbconvert_exporter": "python",
   "pygments_lexer": "ipython3",
   "version": "3.8.2-final"
  }
 },
 "nbformat": 4,
 "nbformat_minor": 5
}